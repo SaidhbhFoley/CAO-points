{
 "cells": [
  {
   "cell_type": "code",
   "execution_count": 1,
   "id": "a9c1ac90",
   "metadata": {},
   "outputs": [],
   "source": [
    "import numpy as np\n",
    "import pandas as pd\n",
    "import matplotlib.pyplot as plt"
   ]
  },
  {
   "cell_type": "markdown",
   "id": "16e8e3b2",
   "metadata": {},
   "source": [
    "# Pyplot\n",
    "\n",
    "In this notebook I will give:\n",
    "\n",
    "- An overview of the matplotlib.pyplot Python package\n",
    "- An in depth explanation of three interesting plots from the matplotlip.pyplot Python package\n",
    "\n",
    "## Introduction\n",
    "matplotlib.pyplot is a state-based interface to matplotlib. It provides an implicit way of plotting and is mainly intended for interactive plots and simple cases of programmatic plot generation<sup>1</sup>."
   ]
  },
  {
   "cell_type": "code",
   "execution_count": null,
   "id": "71f3af39",
   "metadata": {},
   "outputs": [],
   "source": []
  },
  {
   "cell_type": "code",
   "execution_count": null,
   "id": "f9a6d534",
   "metadata": {},
   "outputs": [],
   "source": []
  },
  {
   "cell_type": "code",
   "execution_count": null,
   "id": "c5f6bd8c",
   "metadata": {},
   "outputs": [],
   "source": []
  },
  {
   "cell_type": "code",
   "execution_count": null,
   "id": "7c56e9d5",
   "metadata": {},
   "outputs": [],
   "source": []
  },
  {
   "cell_type": "markdown",
   "id": "503f9cf5",
   "metadata": {},
   "source": [
    "# References\n",
    "<sup>1</sup>[matplotlib.pyplot](https://matplotlib.org/stable/api/_as_gen/matplotlib.pyplot.html)  "
   ]
  },
  {
   "cell_type": "code",
   "execution_count": null,
   "id": "2b84d339",
   "metadata": {},
   "outputs": [],
   "source": []
  }
 ],
 "metadata": {
  "kernelspec": {
   "display_name": "Python 3 (ipykernel)",
   "language": "python",
   "name": "python3"
  },
  "language_info": {
   "codemirror_mode": {
    "name": "ipython",
    "version": 3
   },
   "file_extension": ".py",
   "mimetype": "text/x-python",
   "name": "python",
   "nbconvert_exporter": "python",
   "pygments_lexer": "ipython3",
   "version": "3.8.5"
  }
 },
 "nbformat": 4,
 "nbformat_minor": 5
}
